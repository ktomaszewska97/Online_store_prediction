{
 "cells": [
  {
   "cell_type": "code",
   "execution_count": 1,
   "metadata": {},
   "outputs": [],
   "source": [
    "import numpy as np\n",
    "import pandas as pd\n",
    "import matplotlib.pyplot as plt\n",
    "import seaborn as sns"
   ]
  },
  {
   "cell_type": "code",
   "execution_count": 2,
   "metadata": {},
   "outputs": [],
   "source": [
    "data = pd.read_csv(\"logs.csv\", index_col=0, delimiter=';')"
   ]
  },
  {
   "cell_type": "code",
   "execution_count": 3,
   "metadata": {},
   "outputs": [
    {
     "data": {
      "text/html": [
       "<div>\n",
       "<style scoped>\n",
       "    .dataframe tbody tr th:only-of-type {\n",
       "        vertical-align: middle;\n",
       "    }\n",
       "\n",
       "    .dataframe tbody tr th {\n",
       "        vertical-align: top;\n",
       "    }\n",
       "\n",
       "    .dataframe thead th {\n",
       "        text-align: right;\n",
       "    }\n",
       "</style>\n",
       "<table border=\"1\" class=\"dataframe\">\n",
       "  <thead>\n",
       "    <tr style=\"text-align: right;\">\n",
       "      <th></th>\n",
       "      <th>startHour</th>\n",
       "      <th>startWeekday</th>\n",
       "      <th>duration</th>\n",
       "      <th>cCount</th>\n",
       "      <th>cMinPrice</th>\n",
       "      <th>cMaxPrice</th>\n",
       "      <th>cSumPrice</th>\n",
       "      <th>bCount</th>\n",
       "      <th>bMinPrice</th>\n",
       "      <th>bMaxPrice</th>\n",
       "      <th>...</th>\n",
       "      <th>availability</th>\n",
       "      <th>customerNo</th>\n",
       "      <th>maxVal</th>\n",
       "      <th>customerScore</th>\n",
       "      <th>accountLifetime</th>\n",
       "      <th>payments</th>\n",
       "      <th>age</th>\n",
       "      <th>address</th>\n",
       "      <th>lastOrder</th>\n",
       "      <th>order</th>\n",
       "    </tr>\n",
       "    <tr>\n",
       "      <th>sessionNo</th>\n",
       "      <th></th>\n",
       "      <th></th>\n",
       "      <th></th>\n",
       "      <th></th>\n",
       "      <th></th>\n",
       "      <th></th>\n",
       "      <th></th>\n",
       "      <th></th>\n",
       "      <th></th>\n",
       "      <th></th>\n",
       "      <th></th>\n",
       "      <th></th>\n",
       "      <th></th>\n",
       "      <th></th>\n",
       "      <th></th>\n",
       "      <th></th>\n",
       "      <th></th>\n",
       "      <th></th>\n",
       "      <th></th>\n",
       "      <th></th>\n",
       "      <th></th>\n",
       "    </tr>\n",
       "  </thead>\n",
       "  <tbody>\n",
       "    <tr>\n",
       "      <th>1</th>\n",
       "      <td>6</td>\n",
       "      <td>5</td>\n",
       "      <td>0.000</td>\n",
       "      <td>1</td>\n",
       "      <td>59.99</td>\n",
       "      <td>59.99</td>\n",
       "      <td>59.99</td>\n",
       "      <td>1</td>\n",
       "      <td>59.99</td>\n",
       "      <td>59.99</td>\n",
       "      <td>...</td>\n",
       "      <td>completely orderable</td>\n",
       "      <td>1</td>\n",
       "      <td>600</td>\n",
       "      <td>70</td>\n",
       "      <td>21</td>\n",
       "      <td>1</td>\n",
       "      <td>43</td>\n",
       "      <td>1</td>\n",
       "      <td>49</td>\n",
       "      <td>y</td>\n",
       "    </tr>\n",
       "    <tr>\n",
       "      <th>1</th>\n",
       "      <td>6</td>\n",
       "      <td>5</td>\n",
       "      <td>11.940</td>\n",
       "      <td>1</td>\n",
       "      <td>59.99</td>\n",
       "      <td>59.99</td>\n",
       "      <td>59.99</td>\n",
       "      <td>1</td>\n",
       "      <td>59.99</td>\n",
       "      <td>59.99</td>\n",
       "      <td>...</td>\n",
       "      <td>completely orderable</td>\n",
       "      <td>1</td>\n",
       "      <td>600</td>\n",
       "      <td>70</td>\n",
       "      <td>21</td>\n",
       "      <td>1</td>\n",
       "      <td>43</td>\n",
       "      <td>1</td>\n",
       "      <td>49</td>\n",
       "      <td>y</td>\n",
       "    </tr>\n",
       "    <tr>\n",
       "      <th>1</th>\n",
       "      <td>6</td>\n",
       "      <td>5</td>\n",
       "      <td>39.887</td>\n",
       "      <td>1</td>\n",
       "      <td>59.99</td>\n",
       "      <td>59.99</td>\n",
       "      <td>59.99</td>\n",
       "      <td>1</td>\n",
       "      <td>59.99</td>\n",
       "      <td>59.99</td>\n",
       "      <td>...</td>\n",
       "      <td>completely orderable</td>\n",
       "      <td>1</td>\n",
       "      <td>600</td>\n",
       "      <td>70</td>\n",
       "      <td>21</td>\n",
       "      <td>1</td>\n",
       "      <td>43</td>\n",
       "      <td>1</td>\n",
       "      <td>49</td>\n",
       "      <td>y</td>\n",
       "    </tr>\n",
       "    <tr>\n",
       "      <th>3</th>\n",
       "      <td>6</td>\n",
       "      <td>5</td>\n",
       "      <td>181.477</td>\n",
       "      <td>9</td>\n",
       "      <td>29.99</td>\n",
       "      <td>29.99</td>\n",
       "      <td>89.97</td>\n",
       "      <td>1</td>\n",
       "      <td>29.99</td>\n",
       "      <td>29.99</td>\n",
       "      <td>...</td>\n",
       "      <td>completely orderable</td>\n",
       "      <td>3</td>\n",
       "      <td>1800</td>\n",
       "      <td>475</td>\n",
       "      <td>302</td>\n",
       "      <td>12</td>\n",
       "      <td>45</td>\n",
       "      <td>1</td>\n",
       "      <td>11</td>\n",
       "      <td>y</td>\n",
       "    </tr>\n",
       "    <tr>\n",
       "      <th>3</th>\n",
       "      <td>6</td>\n",
       "      <td>5</td>\n",
       "      <td>297.018</td>\n",
       "      <td>11</td>\n",
       "      <td>9.99</td>\n",
       "      <td>29.99</td>\n",
       "      <td>109.95</td>\n",
       "      <td>2</td>\n",
       "      <td>9.99</td>\n",
       "      <td>29.99</td>\n",
       "      <td>...</td>\n",
       "      <td>completely orderable</td>\n",
       "      <td>3</td>\n",
       "      <td>1800</td>\n",
       "      <td>475</td>\n",
       "      <td>302</td>\n",
       "      <td>12</td>\n",
       "      <td>45</td>\n",
       "      <td>1</td>\n",
       "      <td>11</td>\n",
       "      <td>y</td>\n",
       "    </tr>\n",
       "  </tbody>\n",
       "</table>\n",
       "<p>5 rows × 23 columns</p>\n",
       "</div>"
      ],
      "text/plain": [
       "           startHour  startWeekday  duration  cCount  cMinPrice  cMaxPrice  \\\n",
       "sessionNo                                                                    \n",
       "1                  6             5     0.000       1      59.99      59.99   \n",
       "1                  6             5    11.940       1      59.99      59.99   \n",
       "1                  6             5    39.887       1      59.99      59.99   \n",
       "3                  6             5   181.477       9      29.99      29.99   \n",
       "3                  6             5   297.018      11       9.99      29.99   \n",
       "\n",
       "           cSumPrice  bCount  bMinPrice  bMaxPrice  ...          availability  \\\n",
       "sessionNo                                           ...                         \n",
       "1              59.99       1      59.99      59.99  ...  completely orderable   \n",
       "1              59.99       1      59.99      59.99  ...  completely orderable   \n",
       "1              59.99       1      59.99      59.99  ...  completely orderable   \n",
       "3              89.97       1      29.99      29.99  ...  completely orderable   \n",
       "3             109.95       2       9.99      29.99  ...  completely orderable   \n",
       "\n",
       "           customerNo maxVal customerScore  accountLifetime  payments  age  \\\n",
       "sessionNo                                                                    \n",
       "1                   1    600            70               21         1   43   \n",
       "1                   1    600            70               21         1   43   \n",
       "1                   1    600            70               21         1   43   \n",
       "3                   3   1800           475              302        12   45   \n",
       "3                   3   1800           475              302        12   45   \n",
       "\n",
       "           address  lastOrder  order  \n",
       "sessionNo                             \n",
       "1                1         49      y  \n",
       "1                1         49      y  \n",
       "1                1         49      y  \n",
       "3                1         11      y  \n",
       "3                1         11      y  \n",
       "\n",
       "[5 rows x 23 columns]"
      ]
     },
     "execution_count": 3,
     "metadata": {},
     "output_type": "execute_result"
    }
   ],
   "source": [
    "data.head()"
   ]
  },
  {
   "cell_type": "code",
   "execution_count": 4,
   "metadata": {},
   "outputs": [],
   "source": [
    "order_ = []\n",
    "for i in data['order']:\n",
    "    if i == \"y\":\n",
    "        order_.append('1')\n",
    "    elif i == \"n\":\n",
    "        order_.append('2')\n",
    "# We are dropping categorical variables\n",
    "data['order_'] = order_\n",
    "data = data.drop([\"order\", \"onlineStatus\", \"availability\"], axis=1)\n"
   ]
  },
  {
   "cell_type": "code",
   "execution_count": 5,
   "metadata": {},
   "outputs": [
    {
     "data": {
      "text/html": [
       "<div>\n",
       "<style scoped>\n",
       "    .dataframe tbody tr th:only-of-type {\n",
       "        vertical-align: middle;\n",
       "    }\n",
       "\n",
       "    .dataframe tbody tr th {\n",
       "        vertical-align: top;\n",
       "    }\n",
       "\n",
       "    .dataframe thead th {\n",
       "        text-align: right;\n",
       "    }\n",
       "</style>\n",
       "<table border=\"1\" class=\"dataframe\">\n",
       "  <thead>\n",
       "    <tr style=\"text-align: right;\">\n",
       "      <th></th>\n",
       "      <th>startHour</th>\n",
       "      <th>startWeekday</th>\n",
       "      <th>duration</th>\n",
       "      <th>cCount</th>\n",
       "      <th>cMinPrice</th>\n",
       "      <th>cMaxPrice</th>\n",
       "      <th>cSumPrice</th>\n",
       "      <th>bCount</th>\n",
       "      <th>bMinPrice</th>\n",
       "      <th>bMaxPrice</th>\n",
       "      <th>...</th>\n",
       "      <th>bStep</th>\n",
       "      <th>customerNo</th>\n",
       "      <th>maxVal</th>\n",
       "      <th>customerScore</th>\n",
       "      <th>accountLifetime</th>\n",
       "      <th>payments</th>\n",
       "      <th>age</th>\n",
       "      <th>address</th>\n",
       "      <th>lastOrder</th>\n",
       "      <th>order_</th>\n",
       "    </tr>\n",
       "    <tr>\n",
       "      <th>sessionNo</th>\n",
       "      <th></th>\n",
       "      <th></th>\n",
       "      <th></th>\n",
       "      <th></th>\n",
       "      <th></th>\n",
       "      <th></th>\n",
       "      <th></th>\n",
       "      <th></th>\n",
       "      <th></th>\n",
       "      <th></th>\n",
       "      <th></th>\n",
       "      <th></th>\n",
       "      <th></th>\n",
       "      <th></th>\n",
       "      <th></th>\n",
       "      <th></th>\n",
       "      <th></th>\n",
       "      <th></th>\n",
       "      <th></th>\n",
       "      <th></th>\n",
       "      <th></th>\n",
       "    </tr>\n",
       "  </thead>\n",
       "  <tbody>\n",
       "    <tr>\n",
       "      <th>1</th>\n",
       "      <td>6</td>\n",
       "      <td>5</td>\n",
       "      <td>0.000</td>\n",
       "      <td>1</td>\n",
       "      <td>59.99</td>\n",
       "      <td>59.99</td>\n",
       "      <td>59.99</td>\n",
       "      <td>1</td>\n",
       "      <td>59.99</td>\n",
       "      <td>59.99</td>\n",
       "      <td>...</td>\n",
       "      <td>2</td>\n",
       "      <td>1</td>\n",
       "      <td>600</td>\n",
       "      <td>70</td>\n",
       "      <td>21</td>\n",
       "      <td>1</td>\n",
       "      <td>43</td>\n",
       "      <td>1</td>\n",
       "      <td>49</td>\n",
       "      <td>1</td>\n",
       "    </tr>\n",
       "    <tr>\n",
       "      <th>1</th>\n",
       "      <td>6</td>\n",
       "      <td>5</td>\n",
       "      <td>11.940</td>\n",
       "      <td>1</td>\n",
       "      <td>59.99</td>\n",
       "      <td>59.99</td>\n",
       "      <td>59.99</td>\n",
       "      <td>1</td>\n",
       "      <td>59.99</td>\n",
       "      <td>59.99</td>\n",
       "      <td>...</td>\n",
       "      <td>2</td>\n",
       "      <td>1</td>\n",
       "      <td>600</td>\n",
       "      <td>70</td>\n",
       "      <td>21</td>\n",
       "      <td>1</td>\n",
       "      <td>43</td>\n",
       "      <td>1</td>\n",
       "      <td>49</td>\n",
       "      <td>1</td>\n",
       "    </tr>\n",
       "    <tr>\n",
       "      <th>1</th>\n",
       "      <td>6</td>\n",
       "      <td>5</td>\n",
       "      <td>39.887</td>\n",
       "      <td>1</td>\n",
       "      <td>59.99</td>\n",
       "      <td>59.99</td>\n",
       "      <td>59.99</td>\n",
       "      <td>1</td>\n",
       "      <td>59.99</td>\n",
       "      <td>59.99</td>\n",
       "      <td>...</td>\n",
       "      <td>3</td>\n",
       "      <td>1</td>\n",
       "      <td>600</td>\n",
       "      <td>70</td>\n",
       "      <td>21</td>\n",
       "      <td>1</td>\n",
       "      <td>43</td>\n",
       "      <td>1</td>\n",
       "      <td>49</td>\n",
       "      <td>1</td>\n",
       "    </tr>\n",
       "    <tr>\n",
       "      <th>3</th>\n",
       "      <td>6</td>\n",
       "      <td>5</td>\n",
       "      <td>181.477</td>\n",
       "      <td>9</td>\n",
       "      <td>29.99</td>\n",
       "      <td>29.99</td>\n",
       "      <td>89.97</td>\n",
       "      <td>1</td>\n",
       "      <td>29.99</td>\n",
       "      <td>29.99</td>\n",
       "      <td>...</td>\n",
       "      <td>1</td>\n",
       "      <td>3</td>\n",
       "      <td>1800</td>\n",
       "      <td>475</td>\n",
       "      <td>302</td>\n",
       "      <td>12</td>\n",
       "      <td>45</td>\n",
       "      <td>1</td>\n",
       "      <td>11</td>\n",
       "      <td>1</td>\n",
       "    </tr>\n",
       "    <tr>\n",
       "      <th>3</th>\n",
       "      <td>6</td>\n",
       "      <td>5</td>\n",
       "      <td>297.018</td>\n",
       "      <td>11</td>\n",
       "      <td>9.99</td>\n",
       "      <td>29.99</td>\n",
       "      <td>109.95</td>\n",
       "      <td>2</td>\n",
       "      <td>9.99</td>\n",
       "      <td>29.99</td>\n",
       "      <td>...</td>\n",
       "      <td>1</td>\n",
       "      <td>3</td>\n",
       "      <td>1800</td>\n",
       "      <td>475</td>\n",
       "      <td>302</td>\n",
       "      <td>12</td>\n",
       "      <td>45</td>\n",
       "      <td>1</td>\n",
       "      <td>11</td>\n",
       "      <td>1</td>\n",
       "    </tr>\n",
       "  </tbody>\n",
       "</table>\n",
       "<p>5 rows × 21 columns</p>\n",
       "</div>"
      ],
      "text/plain": [
       "           startHour  startWeekday  duration  cCount  cMinPrice  cMaxPrice  \\\n",
       "sessionNo                                                                    \n",
       "1                  6             5     0.000       1      59.99      59.99   \n",
       "1                  6             5    11.940       1      59.99      59.99   \n",
       "1                  6             5    39.887       1      59.99      59.99   \n",
       "3                  6             5   181.477       9      29.99      29.99   \n",
       "3                  6             5   297.018      11       9.99      29.99   \n",
       "\n",
       "           cSumPrice  bCount  bMinPrice  bMaxPrice  ...  bStep  customerNo  \\\n",
       "sessionNo                                           ...                      \n",
       "1              59.99       1      59.99      59.99  ...      2           1   \n",
       "1              59.99       1      59.99      59.99  ...      2           1   \n",
       "1              59.99       1      59.99      59.99  ...      3           1   \n",
       "3              89.97       1      29.99      29.99  ...      1           3   \n",
       "3             109.95       2       9.99      29.99  ...      1           3   \n",
       "\n",
       "           maxVal  customerScore  accountLifetime  payments  age  address  \\\n",
       "sessionNo                                                                   \n",
       "1             600             70               21         1   43        1   \n",
       "1             600             70               21         1   43        1   \n",
       "1             600             70               21         1   43        1   \n",
       "3            1800            475              302        12   45        1   \n",
       "3            1800            475              302        12   45        1   \n",
       "\n",
       "           lastOrder  order_  \n",
       "sessionNo                     \n",
       "1                 49       1  \n",
       "1                 49       1  \n",
       "1                 49       1  \n",
       "3                 11       1  \n",
       "3                 11       1  \n",
       "\n",
       "[5 rows x 21 columns]"
      ]
     },
     "execution_count": 5,
     "metadata": {},
     "output_type": "execute_result"
    }
   ],
   "source": [
    "data.head()"
   ]
  },
  {
   "cell_type": "code",
   "execution_count": 6,
   "metadata": {},
   "outputs": [],
   "source": [
    "# Dividing data\n",
    "from sklearn.model_selection import train_test_split\n",
    "x = data.drop([\"order_\"], axis=1)\n",
    "y = data.order_\n",
    "\n",
    "train_x, test_x, train_y, test_y = train_test_split(x, y, random_state = 42)"
   ]
  },
  {
   "cell_type": "code",
   "execution_count": 43,
   "metadata": {},
   "outputs": [],
   "source": [
    "# ____________________________________\n",
    "# Starting model section. For the results we are using 3 measures: score, which counts accuracy of the prediction, MSE - Mean Squared Error and confusion matrix.\n",
    "# We are not using MSE for Naive Bayes\n",
    "# We will use confusion matrix in the following format: \n",
    "# TP FP\n",
    "# TN FN\n",
    "# _____________________________________\n",
    "# Now we will will build models in the order: kNN, Logistic Regression and Naive Bayes. \n",
    "# First, for 22 parameters.\n",
    "# _____________________________________\n",
    "# kNN"
   ]
  },
  {
   "cell_type": "code",
   "execution_count": 8,
   "metadata": {},
   "outputs": [
    {
     "name": "stdout",
     "output_type": "stream",
     "text": [
      "Test set score: 0.83\n",
      "Training set score: 0.90\n"
     ]
    }
   ],
   "source": [
    "from sklearn.neighbors import KNeighborsClassifier\n",
    "knn = KNeighborsClassifier(n_neighbors=3)\n",
    "knn.fit(train_x, train_y)\n",
    "y_pred = knn.predict(test_x)\n",
    "print(\"Test set score: {:.2f}\".format(knn.score(test_x, test_y)))\n",
    "print(\"Training set score: {:.2f}\".format(knn.score(train_x, train_y)))\n"
   ]
  },
  {
   "cell_type": "code",
   "execution_count": 9,
   "metadata": {},
   "outputs": [
    {
     "name": "stdout",
     "output_type": "stream",
     "text": [
      "0.17085379029280234\n"
     ]
    }
   ],
   "source": [
    "from sklearn.metrics import mean_squared_error\n",
    "from math import sqrt\n",
    "mse = mean_squared_error(test_y, y_pred)\n",
    "print(mse)"
   ]
  },
  {
   "cell_type": "code",
   "execution_count": 10,
   "metadata": {},
   "outputs": [
    {
     "name": "stdout",
     "output_type": "stream",
     "text": [
      "[[47778  4362]\n",
      " [ 8131 12850]]\n"
     ]
    }
   ],
   "source": [
    "from sklearn.metrics import confusion_matrix\n",
    "print(confusion_matrix(test_y,y_pred))"
   ]
  },
  {
   "cell_type": "code",
   "execution_count": 11,
   "metadata": {},
   "outputs": [],
   "source": [
    "# Logistic regression"
   ]
  },
  {
   "cell_type": "code",
   "execution_count": 12,
   "metadata": {},
   "outputs": [
    {
     "name": "stderr",
     "output_type": "stream",
     "text": [
      "C:\\Users\\ktoma\\anaconda3\\lib\\site-packages\\sklearn\\linear_model\\_logistic.py:762: ConvergenceWarning: lbfgs failed to converge (status=1):\n",
      "STOP: TOTAL NO. of ITERATIONS REACHED LIMIT.\n",
      "\n",
      "Increase the number of iterations (max_iter) or scale the data as shown in:\n",
      "    https://scikit-learn.org/stable/modules/preprocessing.html\n",
      "Please also refer to the documentation for alternative solver options:\n",
      "    https://scikit-learn.org/stable/modules/linear_model.html#logistic-regression\n",
      "  n_iter_i = _check_optimize_result(\n"
     ]
    },
    {
     "name": "stdout",
     "output_type": "stream",
     "text": [
      "Test set score: 0.72\n",
      "Training set score: 0.71\n"
     ]
    }
   ],
   "source": [
    "from sklearn.linear_model import LogisticRegression\n",
    "logreg = LogisticRegression(solver='lbfgs', max_iter=100, penalty='none')\n",
    "logreg.fit(train_x, train_y)\n",
    "y_pred = logreg.predict(test_x)\n",
    "print(\"Test set score: {:.2f}\".format(logreg.score(test_x, test_y)))\n",
    "print(\"Training set score: {:.2f}\".format(logreg.score(train_x, train_y)))"
   ]
  },
  {
   "cell_type": "code",
   "execution_count": 13,
   "metadata": {},
   "outputs": [
    {
     "name": "stdout",
     "output_type": "stream",
     "text": [
      "0.2848429315791633\n"
     ]
    }
   ],
   "source": [
    "mse = mean_squared_error(test_y, y_pred)\n",
    "print(mse)"
   ]
  },
  {
   "cell_type": "code",
   "execution_count": 14,
   "metadata": {},
   "outputs": [
    {
     "name": "stdout",
     "output_type": "stream",
     "text": [
      "[[51265   875]\n",
      " [19953  1028]]\n"
     ]
    }
   ],
   "source": [
    "print(confusion_matrix(test_y,y_pred))"
   ]
  },
  {
   "cell_type": "code",
   "execution_count": 15,
   "metadata": {},
   "outputs": [],
   "source": [
    "# Naive Bayes"
   ]
  },
  {
   "cell_type": "code",
   "execution_count": 16,
   "metadata": {},
   "outputs": [
    {
     "name": "stdout",
     "output_type": "stream",
     "text": [
      "Test set score: 0.71\n",
      "Training set score: 0.71\n"
     ]
    }
   ],
   "source": [
    "from sklearn.naive_bayes import GaussianNB\n",
    "gnb = GaussianNB()\n",
    "y_pred = gnb.fit(train_x, train_y).predict(test_x)\n",
    "print(\"Test set score: {:.2f}\".format(gnb.score(test_x, test_y)))\n",
    "print(\"Training set score: {:.2f}\".format(gnb.score(train_x, train_y)))"
   ]
  },
  {
   "cell_type": "code",
   "execution_count": 17,
   "metadata": {},
   "outputs": [
    {
     "name": "stdout",
     "output_type": "stream",
     "text": [
      "[[48286  3854]\n",
      " [17392  3589]]\n"
     ]
    }
   ],
   "source": [
    "print(confusion_matrix(test_y,y_pred))"
   ]
  },
  {
   "cell_type": "code",
   "execution_count": 18,
   "metadata": {},
   "outputs": [],
   "source": [
    "# _____________________________________\n",
    "# 15 parameters\n",
    "# _____________________________________"
   ]
  },
  {
   "cell_type": "code",
   "execution_count": 19,
   "metadata": {},
   "outputs": [],
   "source": [
    "# Dropping parameters in the random order until we will reach 15\n",
    "data = data.drop([\"startWeekday\", \"duration\", \"cCount\", \"bCount\", \"bMaxPrice\", \"customerNo\", \"maxVal\" ], axis=1)"
   ]
  },
  {
   "cell_type": "code",
   "execution_count": 20,
   "metadata": {},
   "outputs": [],
   "source": [
    "# Assigning new data\n",
    "x = data\n",
    "y = data.order_\n",
    "\n",
    "train_x, test_x, train_y, test_y = train_test_split(x, y, random_state = 42)"
   ]
  },
  {
   "cell_type": "code",
   "execution_count": 21,
   "metadata": {},
   "outputs": [
    {
     "name": "stdout",
     "output_type": "stream",
     "text": [
      "Test set score: 0.83\n",
      "Training set score: 0.91\n"
     ]
    }
   ],
   "source": [
    "# kNN\n",
    "knn = KNeighborsClassifier(n_neighbors=3)\n",
    "knn.fit(train_x, train_y)\n",
    "y_pred = knn.predict(test_x)\n",
    "print(\"Test set score: {:.2f}\".format(knn.score(test_x, test_y)))\n",
    "print(\"Training set score: {:.2f}\".format(knn.score(train_x, train_y)))\n"
   ]
  },
  {
   "cell_type": "code",
   "execution_count": 22,
   "metadata": {},
   "outputs": [
    {
     "name": "stdout",
     "output_type": "stream",
     "text": [
      "0.16665527003186498\n"
     ]
    }
   ],
   "source": [
    "mse = mean_squared_error(test_y, y_pred)\n",
    "print(mse)"
   ]
  },
  {
   "cell_type": "code",
   "execution_count": 23,
   "metadata": {},
   "outputs": [
    {
     "name": "stdout",
     "output_type": "stream",
     "text": [
      "[[47679  4461]\n",
      " [ 7725 13256]]\n"
     ]
    }
   ],
   "source": [
    "print(confusion_matrix(test_y,y_pred))"
   ]
  },
  {
   "cell_type": "code",
   "execution_count": 24,
   "metadata": {},
   "outputs": [],
   "source": [
    "# Logistic Regression"
   ]
  },
  {
   "cell_type": "code",
   "execution_count": 25,
   "metadata": {},
   "outputs": [
    {
     "name": "stderr",
     "output_type": "stream",
     "text": [
      "C:\\Users\\ktoma\\anaconda3\\lib\\site-packages\\sklearn\\linear_model\\_logistic.py:762: ConvergenceWarning: lbfgs failed to converge (status=1):\n",
      "STOP: TOTAL NO. of ITERATIONS REACHED LIMIT.\n",
      "\n",
      "Increase the number of iterations (max_iter) or scale the data as shown in:\n",
      "    https://scikit-learn.org/stable/modules/preprocessing.html\n",
      "Please also refer to the documentation for alternative solver options:\n",
      "    https://scikit-learn.org/stable/modules/linear_model.html#logistic-regression\n",
      "  n_iter_i = _check_optimize_result(\n"
     ]
    },
    {
     "name": "stdout",
     "output_type": "stream",
     "text": [
      "Test set score: 0.71\n",
      "Training set score: 0.71\n"
     ]
    }
   ],
   "source": [
    "logreg = LogisticRegression(solver='lbfgs', max_iter=100, penalty='none')\n",
    "logreg.fit(train_x, train_y)\n",
    "y_pred = logreg.predict(test_x)\n",
    "print(\"Test set score: {:.2f}\".format(logreg.score(test_x, test_y)))\n",
    "print(\"Training set score: {:.2f}\".format(logreg.score(train_x, train_y)))"
   ]
  },
  {
   "cell_type": "code",
   "execution_count": 26,
   "metadata": {},
   "outputs": [
    {
     "name": "stdout",
     "output_type": "stream",
     "text": [
      "0.2859506844818862\n"
     ]
    }
   ],
   "source": [
    "mse = mean_squared_error(test_y, y_pred)\n",
    "print(mse)"
   ]
  },
  {
   "cell_type": "code",
   "execution_count": 27,
   "metadata": {},
   "outputs": [
    {
     "name": "stdout",
     "output_type": "stream",
     "text": [
      "[[51032  1108]\n",
      " [19801  1180]]\n"
     ]
    }
   ],
   "source": [
    "print(confusion_matrix(test_y,y_pred))"
   ]
  },
  {
   "cell_type": "code",
   "execution_count": 28,
   "metadata": {},
   "outputs": [],
   "source": [
    "# Naive Bayes"
   ]
  },
  {
   "cell_type": "code",
   "execution_count": 29,
   "metadata": {},
   "outputs": [
    {
     "name": "stdout",
     "output_type": "stream",
     "text": [
      "Test set score: 0.99\n",
      "Training set score: 1.00\n"
     ]
    }
   ],
   "source": [
    "gnb = GaussianNB()\n",
    "y_pred = gnb.fit(train_x, train_y).predict(test_x)\n",
    "print(\"Test set score: {:.2f}\".format(gnb.score(test_x, test_y)))\n",
    "print(\"Training set score: {:.2f}\".format(gnb.score(train_x, train_y)))"
   ]
  },
  {
   "cell_type": "code",
   "execution_count": 30,
   "metadata": {},
   "outputs": [
    {
     "name": "stdout",
     "output_type": "stream",
     "text": [
      "[[51788   352]\n",
      " [   19 20962]]\n"
     ]
    }
   ],
   "source": [
    "print(confusion_matrix(test_y,y_pred))"
   ]
  },
  {
   "cell_type": "code",
   "execution_count": 31,
   "metadata": {},
   "outputs": [],
   "source": [
    "# _____________________________________\n",
    "# 10 parameters\n",
    "# _____________________________________"
   ]
  },
  {
   "cell_type": "code",
   "execution_count": 32,
   "metadata": {},
   "outputs": [
    {
     "data": {
      "text/html": [
       "<div>\n",
       "<style scoped>\n",
       "    .dataframe tbody tr th:only-of-type {\n",
       "        vertical-align: middle;\n",
       "    }\n",
       "\n",
       "    .dataframe tbody tr th {\n",
       "        vertical-align: top;\n",
       "    }\n",
       "\n",
       "    .dataframe thead th {\n",
       "        text-align: right;\n",
       "    }\n",
       "</style>\n",
       "<table border=\"1\" class=\"dataframe\">\n",
       "  <thead>\n",
       "    <tr style=\"text-align: right;\">\n",
       "      <th></th>\n",
       "      <th>startHour</th>\n",
       "      <th>cMinPrice</th>\n",
       "      <th>cMaxPrice</th>\n",
       "      <th>cSumPrice</th>\n",
       "      <th>bMinPrice</th>\n",
       "      <th>bSumPrice</th>\n",
       "      <th>bStep</th>\n",
       "      <th>customerScore</th>\n",
       "      <th>accountLifetime</th>\n",
       "      <th>payments</th>\n",
       "      <th>age</th>\n",
       "      <th>address</th>\n",
       "      <th>lastOrder</th>\n",
       "      <th>order_</th>\n",
       "    </tr>\n",
       "    <tr>\n",
       "      <th>sessionNo</th>\n",
       "      <th></th>\n",
       "      <th></th>\n",
       "      <th></th>\n",
       "      <th></th>\n",
       "      <th></th>\n",
       "      <th></th>\n",
       "      <th></th>\n",
       "      <th></th>\n",
       "      <th></th>\n",
       "      <th></th>\n",
       "      <th></th>\n",
       "      <th></th>\n",
       "      <th></th>\n",
       "      <th></th>\n",
       "    </tr>\n",
       "  </thead>\n",
       "  <tbody>\n",
       "    <tr>\n",
       "      <th>1</th>\n",
       "      <td>6</td>\n",
       "      <td>59.99</td>\n",
       "      <td>59.99</td>\n",
       "      <td>59.99</td>\n",
       "      <td>59.99</td>\n",
       "      <td>59.99</td>\n",
       "      <td>2</td>\n",
       "      <td>70</td>\n",
       "      <td>21</td>\n",
       "      <td>1</td>\n",
       "      <td>43</td>\n",
       "      <td>1</td>\n",
       "      <td>49</td>\n",
       "      <td>1</td>\n",
       "    </tr>\n",
       "    <tr>\n",
       "      <th>1</th>\n",
       "      <td>6</td>\n",
       "      <td>59.99</td>\n",
       "      <td>59.99</td>\n",
       "      <td>59.99</td>\n",
       "      <td>59.99</td>\n",
       "      <td>59.99</td>\n",
       "      <td>2</td>\n",
       "      <td>70</td>\n",
       "      <td>21</td>\n",
       "      <td>1</td>\n",
       "      <td>43</td>\n",
       "      <td>1</td>\n",
       "      <td>49</td>\n",
       "      <td>1</td>\n",
       "    </tr>\n",
       "    <tr>\n",
       "      <th>1</th>\n",
       "      <td>6</td>\n",
       "      <td>59.99</td>\n",
       "      <td>59.99</td>\n",
       "      <td>59.99</td>\n",
       "      <td>59.99</td>\n",
       "      <td>59.99</td>\n",
       "      <td>3</td>\n",
       "      <td>70</td>\n",
       "      <td>21</td>\n",
       "      <td>1</td>\n",
       "      <td>43</td>\n",
       "      <td>1</td>\n",
       "      <td>49</td>\n",
       "      <td>1</td>\n",
       "    </tr>\n",
       "    <tr>\n",
       "      <th>3</th>\n",
       "      <td>6</td>\n",
       "      <td>29.99</td>\n",
       "      <td>29.99</td>\n",
       "      <td>89.97</td>\n",
       "      <td>29.99</td>\n",
       "      <td>29.99</td>\n",
       "      <td>1</td>\n",
       "      <td>475</td>\n",
       "      <td>302</td>\n",
       "      <td>12</td>\n",
       "      <td>45</td>\n",
       "      <td>1</td>\n",
       "      <td>11</td>\n",
       "      <td>1</td>\n",
       "    </tr>\n",
       "    <tr>\n",
       "      <th>3</th>\n",
       "      <td>6</td>\n",
       "      <td>9.99</td>\n",
       "      <td>29.99</td>\n",
       "      <td>109.95</td>\n",
       "      <td>9.99</td>\n",
       "      <td>39.98</td>\n",
       "      <td>1</td>\n",
       "      <td>475</td>\n",
       "      <td>302</td>\n",
       "      <td>12</td>\n",
       "      <td>45</td>\n",
       "      <td>1</td>\n",
       "      <td>11</td>\n",
       "      <td>1</td>\n",
       "    </tr>\n",
       "  </tbody>\n",
       "</table>\n",
       "</div>"
      ],
      "text/plain": [
       "           startHour  cMinPrice  cMaxPrice  cSumPrice  bMinPrice  bSumPrice  \\\n",
       "sessionNo                                                                     \n",
       "1                  6      59.99      59.99      59.99      59.99      59.99   \n",
       "1                  6      59.99      59.99      59.99      59.99      59.99   \n",
       "1                  6      59.99      59.99      59.99      59.99      59.99   \n",
       "3                  6      29.99      29.99      89.97      29.99      29.99   \n",
       "3                  6       9.99      29.99     109.95       9.99      39.98   \n",
       "\n",
       "           bStep  customerScore  accountLifetime  payments  age  address  \\\n",
       "sessionNo                                                                  \n",
       "1              2             70               21         1   43        1   \n",
       "1              2             70               21         1   43        1   \n",
       "1              3             70               21         1   43        1   \n",
       "3              1            475              302        12   45        1   \n",
       "3              1            475              302        12   45        1   \n",
       "\n",
       "           lastOrder order_  \n",
       "sessionNo                    \n",
       "1                 49      1  \n",
       "1                 49      1  \n",
       "1                 49      1  \n",
       "3                 11      1  \n",
       "3                 11      1  "
      ]
     },
     "execution_count": 32,
     "metadata": {},
     "output_type": "execute_result"
    }
   ],
   "source": [
    "data.head()"
   ]
  },
  {
   "cell_type": "code",
   "execution_count": 33,
   "metadata": {},
   "outputs": [],
   "source": [
    "# Dropping data until we will reach 10 parameters\n",
    "data = data.drop([\"cMaxPrice\", \"cMinPrice\", \"startHour\", \"cSumPrice\"], axis=1)"
   ]
  },
  {
   "cell_type": "code",
   "execution_count": 34,
   "metadata": {},
   "outputs": [],
   "source": [
    "# Assigning new data\n",
    "x = data\n",
    "y = data.order_\n",
    "\n",
    "train_x, test_x, train_y, test_y = train_test_split(x, y, random_state = 42)"
   ]
  },
  {
   "cell_type": "code",
   "execution_count": 35,
   "metadata": {},
   "outputs": [
    {
     "name": "stdout",
     "output_type": "stream",
     "text": [
      "Test set score: 0.83\n",
      "Training set score: 0.90\n"
     ]
    }
   ],
   "source": [
    "# kNN\n",
    "knn = KNeighborsClassifier(n_neighbors=3)\n",
    "knn.fit(train_x, train_y)\n",
    "y_pred = knn.predict(test_x)\n",
    "print(\"Test set score: {:.2f}\".format(knn.score(test_x, test_y)))\n",
    "print(\"Training set score: {:.2f}\".format(knn.score(train_x, train_y)))\n"
   ]
  },
  {
   "cell_type": "code",
   "execution_count": 36,
   "metadata": {},
   "outputs": [
    {
     "name": "stdout",
     "output_type": "stream",
     "text": [
      "0.17248122974248165\n"
     ]
    }
   ],
   "source": [
    "mse = mean_squared_error(test_y, y_pred)\n",
    "print(mse)"
   ]
  },
  {
   "cell_type": "code",
   "execution_count": 37,
   "metadata": {},
   "outputs": [
    {
     "name": "stdout",
     "output_type": "stream",
     "text": [
      "[[47172  4968]\n",
      " [ 7644 13337]]\n"
     ]
    }
   ],
   "source": [
    "print(confusion_matrix(test_y,y_pred))"
   ]
  },
  {
   "cell_type": "code",
   "execution_count": 38,
   "metadata": {},
   "outputs": [
    {
     "name": "stderr",
     "output_type": "stream",
     "text": [
      "C:\\Users\\ktoma\\anaconda3\\lib\\site-packages\\sklearn\\linear_model\\_logistic.py:762: ConvergenceWarning: lbfgs failed to converge (status=1):\n",
      "STOP: TOTAL NO. of ITERATIONS REACHED LIMIT.\n",
      "\n",
      "Increase the number of iterations (max_iter) or scale the data as shown in:\n",
      "    https://scikit-learn.org/stable/modules/preprocessing.html\n",
      "Please also refer to the documentation for alternative solver options:\n",
      "    https://scikit-learn.org/stable/modules/linear_model.html#logistic-regression\n",
      "  n_iter_i = _check_optimize_result(\n"
     ]
    },
    {
     "name": "stdout",
     "output_type": "stream",
     "text": [
      "Test set score: 0.93\n",
      "Training set score: 0.93\n"
     ]
    }
   ],
   "source": [
    "# Logistic Regression\n",
    "logreg = LogisticRegression(solver='lbfgs', max_iter=100, penalty='none')\n",
    "logreg.fit(train_x, train_y)\n",
    "y_pred = logreg.predict(test_x)\n",
    "print(\"Test set score: {:.2f}\".format(logreg.score(test_x, test_y)))\n",
    "print(\"Training set score: {:.2f}\".format(logreg.score(train_x, train_y)))"
   ]
  },
  {
   "cell_type": "code",
   "execution_count": 39,
   "metadata": {},
   "outputs": [
    {
     "name": "stdout",
     "output_type": "stream",
     "text": [
      "0.07238686560632376\n"
     ]
    }
   ],
   "source": [
    "mse = mean_squared_error(test_y, y_pred)\n",
    "print(mse)"
   ]
  },
  {
   "cell_type": "code",
   "execution_count": 44,
   "metadata": {},
   "outputs": [
    {
     "name": "stdout",
     "output_type": "stream",
     "text": [
      "Test set score: 1.00\n",
      "Training set score: 1.00\n"
     ]
    }
   ],
   "source": [
    "gnb = GaussianNB()\n",
    "y_pred = gnb.fit(train_x, train_y).predict(test_x)\n",
    "print(\"Test set score: {:.2f}\".format(gnb.score(test_x, test_y)))\n",
    "print(\"Training set score: {:.2f}\".format(gnb.score(train_x, train_y)))"
   ]
  },
  {
   "cell_type": "code",
   "execution_count": 45,
   "metadata": {},
   "outputs": [
    {
     "name": "stdout",
     "output_type": "stream",
     "text": [
      "[[52140     0]\n",
      " [    0 20981]]\n"
     ]
    }
   ],
   "source": [
    "print(confusion_matrix(test_y,y_pred))"
   ]
  }
 ],
 "metadata": {
  "kernelspec": {
   "display_name": "Python 3",
   "language": "python",
   "name": "python3"
  },
  "language_info": {
   "codemirror_mode": {
    "name": "ipython",
    "version": 3
   },
   "file_extension": ".py",
   "mimetype": "text/x-python",
   "name": "python",
   "nbconvert_exporter": "python",
   "pygments_lexer": "ipython3",
   "version": "3.8.5"
  }
 },
 "nbformat": 4,
 "nbformat_minor": 4
}
